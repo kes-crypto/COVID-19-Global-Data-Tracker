# ------------------------------------------------------
# Due to format, this is written in .py format; in reality, this should be run in a Jupyter Notebook.

import pandas as pd
import matplotlib.pyplot as plt
import seaborn as sns
import plotly.express as px
import os

# Load the dataset
df = pd.read_csv("../data/owid-covid-data.csv")
df['date'] = pd.to_datetime(df['date'])
df = df[df['iso_code'].str.len() == 3]  # Only countries

# Select useful columns
cols = ["location", "iso_code", "date", "total_cases", "new_cases", "total_deaths", "new_deaths", "total_vaccinations", "people_fully_vaccinated", "population"]
df = df[cols]
df = df.fillna(0)

# Focus countries
focus = ['Kenya', 'India', 'United States']
df_focus = df[df['location'].isin(focus)]

# Plot total cases over time
plt.figure(figsize=(12, 6))
for country in focus:
    country_data = df_focus[df_focus['location'] == country]
    plt.plot(country_data['date'], country_data['total_cases'], label=country)
plt.title("Total COVID-19 Cases Over Time")
plt.xlabel("Date")
plt.ylabel("Total Cases")
plt.legend()
plt.tight_layout()
os.makedirs("../outputs", exist_ok=True)
plt.savefig("../outputs/cases_over_time.png")
plt.show()

# Plot vaccination progress
plt.figure(figsize=(12, 6))
for country in focus:
    country_data = df_focus[df_focus['location'] == country]
    plt.plot(country_data['date'], country_data['people_fully_vaccinated'], label=country)
plt.title("Vaccination Progress Over Time")
plt.xlabel("Date")
plt.ylabel("People Fully Vaccinated")
plt.legend()
plt.tight_layout()
plt.savefig("../outputs/vaccinations_over_time.png")
plt.show()

# Death Rate
df_focus['death_rate'] = df_focus['total_deaths'] / df_focus['total_cases']
sns.lineplot(data=df_focus, x='date', y='death_rate', hue='location')
plt.title("COVID-19 Death Rate Over Time")
plt.tight_layout()
plt.savefig("../outputs/death_rate_over_time.png")
plt.show()

# Choropleth map
latest = df[df['date'] == df['date'].max()]
fig = px.choropleth(
    latest,
    locations="iso_code",
    color="total_cases",
    hover_name="location",
    color_continuous_scale="Reds",
    title="Total COVID-19 Cases by Country"
)
fig.write_html("../outputs/world_choropleth.html")
fig.show()

# Key insights (to be included as markdown in notebook)
"""
## Key Insights:
1. The United States has the highest number of total reported COVID-19 cases.
2. India achieved the fastest vaccine rollout by mid-2021.
3. Kenya maintained a lower death rate compared to the US and India.
4. The global case distribution shows higher concentration in developed regions.
"""

